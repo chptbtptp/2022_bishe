{
 "cells": [
  {
   "cell_type": "code",
   "execution_count": 5,
   "id": "e8cc00f6",
   "metadata": {},
   "outputs": [
    {
     "ename": "NameError",
     "evalue": "name 'a' is not defined",
     "output_type": "error",
     "traceback": [
      "\u001b[0;31m---------------------------------------------------------------------------\u001b[0m",
      "\u001b[0;31mNameError\u001b[0m                                 Traceback (most recent call last)",
      "Input \u001b[0;32mIn [5]\u001b[0m, in \u001b[0;36m<cell line: 6>\u001b[0;34m()\u001b[0m\n\u001b[1;32m      3\u001b[0m \u001b[38;5;28;01mimport\u001b[39;00m \u001b[38;5;21;01mmatplotlib\u001b[39;00m\u001b[38;5;21;01m.\u001b[39;00m\u001b[38;5;21;01mpyplot\u001b[39;00m \u001b[38;5;28;01mas\u001b[39;00m \u001b[38;5;21;01mplt\u001b[39;00m\n\u001b[1;32m      4\u001b[0m \u001b[38;5;28;01mimport\u001b[39;00m \u001b[38;5;21;01mos\u001b[39;00m\n\u001b[0;32m----> 6\u001b[0m \u001b[38;5;28minput\u001b[39m(\u001b[43ma\u001b[49m)\n\u001b[1;32m      8\u001b[0m \u001b[38;5;66;03m# 定义待批量裁剪图像的路径地址\u001b[39;00m\n\u001b[1;32m      9\u001b[0m IMAGE_INPUT_PATH \u001b[38;5;241m=\u001b[39m \u001b[38;5;124m'\u001b[39m\u001b[38;5;124m/user-data/dino/image/pre_heartTU_images\u001b[39m\u001b[38;5;124m'\u001b[39m\n",
      "\u001b[0;31mNameError\u001b[0m: name 'a' is not defined"
     ]
    }
   ],
   "source": [
    "\"\"\"用Pythonp批量裁剪图片\"\"\"\n",
    "from PIL import Image\n",
    "import matplotlib.pyplot as plt\n",
    "import os\n",
    "\n",
    "\n",
    "# 定义待批量裁剪图像的路径地址\n",
    "IMAGE_INPUT_PATH = '/user-data/dino/image/pre_heartTU_images'\n",
    "# 定义裁剪后的图像存放地址\n",
    "IMAGE_OUTPUT_PATH = '/user-data/dino/image/heartTU_images'\n",
    "# 定义裁剪图片左、上、右、下的像素坐标\n",
    "# BOX_LEFT, BOX_UP, BOX_RIGHT, BOX_DOWN = 130, 180, 600, 400\n",
    "BOX_LEFT, BOX_UP, BOX_RIGHT, BOX_DOWN = 0, 200, 1016, 708\n",
    "\n",
    "'''\n",
    "img = Image.open('/user-data/stata/try/CW_feidongmai_A_12_000001.jpg')\n",
    "imgSize = img.size  #大小/尺寸\n",
    "w = img.width       #图片的宽\n",
    "h = img.height      #图片的高\n",
    "f = img.format      #图像格式\n",
    " \n",
    "print(imgSize)\n",
    "print(w, h, f)\n",
    "'''\n",
    "\n",
    "\n",
    "for each_image in os.listdir(IMAGE_INPUT_PATH):\n",
    "    # print(each_image[-3:]) \n",
    "    if each_image[-3:] != 'jpg':\n",
    "        continue\n",
    "    # 每个图像全路径\n",
    "    image_input_fullname = IMAGE_INPUT_PATH + '/' + each_image\n",
    "    # PIL库打开每一张图像\n",
    "    img = Image.open(image_input_fullname)\n",
    "    plt.figure(\"image_input_fullname\")\n",
    "    plt.subplot(1, 2, 1)\n",
    "    plt.imshow(img)\n",
    "    plt.axis('off')\n",
    "    # print(img.format, img.size, img.mode)\n",
    "    # 从原始图像返回一个矩形区域，区域是一个4元组定义左上右下像素坐标\n",
    "    box = (BOX_LEFT, BOX_UP, BOX_RIGHT + BOX_LEFT, BOX_DOWN + BOX_UP)\n",
    "    # 进行roi裁剪\n",
    "    roi_area = img.crop(box)\n",
    "    plt.subplot(1, 2, 2)\n",
    "\n",
    "    plt.imshow(roi_area)\n",
    "    plt.axis('off')\n",
    "    # print(roi_area.format, roi_area.size, roi_area.mode)\n",
    "    plt.show()\n",
    "    # 裁剪后每个图像的路径+名称\n",
    "    image_output_fullname = IMAGE_OUTPUT_PATH + \"/\" + each_image\n",
    "    # 存储裁剪得到的图像\n",
    "    roi_area.save(image_output_fullname)\n",
    "    # print('{0} crop done.'.format(each_image))"
   ]
  },
  {
   "cell_type": "code",
   "execution_count": null,
   "id": "57121712",
   "metadata": {},
   "outputs": [],
   "source": []
  },
  {
   "cell_type": "code",
   "execution_count": null,
   "id": "6011aa1a",
   "metadata": {},
   "outputs": [],
   "source": []
  }
 ],
 "metadata": {
  "kernelspec": {
   "display_name": "Python 3 (ipykernel)",
   "language": "python",
   "name": "python3"
  },
  "language_info": {
   "codemirror_mode": {
    "name": "ipython",
    "version": 3
   },
   "file_extension": ".py",
   "mimetype": "text/x-python",
   "name": "python",
   "nbconvert_exporter": "python",
   "pygments_lexer": "ipython3",
   "version": "3.8.8"
  }
 },
 "nbformat": 4,
 "nbformat_minor": 5
}
