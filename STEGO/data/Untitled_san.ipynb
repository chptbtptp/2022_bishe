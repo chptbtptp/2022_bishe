{
 "cells": [
  {
   "cell_type": "code",
   "execution_count": 2,
   "metadata": {},
   "outputs": [],
   "source": [
    "#将所有的图像复制到 heartTU_images_san/ 文件夹下\n",
    "import os\n",
    "import shutil\n",
    "#将所有的图像随机分为Train,val,test三个数据集并且生成annotation\n",
    "import random\n",
    "import json\n",
    "\n",
    "img_root = 'cut_heartTU_fei_B'\n",
    "imgs = os.listdir(img_root)\n",
    "random.shuffle(imgs)\n",
    "all_len = len(imgs)\n",
    "train_len = all_len*8//10\n",
    "train_list = imgs[:train_len]\n",
    "val_list = imgs[train_len:]\n",
    "all_img_dict = {'train':train_list,'val':val_list}\n",
    "with open('heartTU_annotation.json','w') as j:\n",
    "    json.dump(all_img_dict, j)"
   ]
  },
  {
   "cell_type": "code",
   "execution_count": 2,
   "metadata": {},
   "outputs": [],
   "source": []
  },
  {
   "cell_type": "code",
   "execution_count": null,
   "metadata": {},
   "outputs": [],
   "source": []
  }
 ],
 "metadata": {
  "kernelspec": {
   "display_name": "Python 3 (ipykernel)",
   "language": "python",
   "name": "python3"
  },
  "language_info": {
   "codemirror_mode": {
    "name": "ipython",
    "version": 3
   },
   "file_extension": ".py",
   "mimetype": "text/x-python",
   "name": "python",
   "nbconvert_exporter": "python",
   "pygments_lexer": "ipython3",
   "version": "3.8.8"
  }
 },
 "nbformat": 4,
 "nbformat_minor": 4
}
